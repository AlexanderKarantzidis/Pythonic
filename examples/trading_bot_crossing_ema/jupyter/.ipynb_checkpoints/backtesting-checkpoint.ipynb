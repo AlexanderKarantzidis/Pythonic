{
 "cells": [
  {
   "cell_type": "code",
   "execution_count": 70,
   "id": "9de7fa14",
   "metadata": {},
   "outputs": [],
   "source": [
    "import pandas as pd\n",
    "from pathlib import Path"
   ]
  },
  {
   "cell_type": "code",
   "execution_count": 73,
   "id": "e5a5b2cd",
   "metadata": {},
   "outputs": [],
   "source": [
    "file_path = Path.home() / 'Pythonic' / 'executables' / 'ADAUSD_1h.df'\n",
    "ohlcv = pd.read_pickle(file_path)\n",
    "\n",
    "ohlcv['close_time'] = ohlcv['close_time'].floordiv(1000)"
   ]
  },
  {
   "cell_type": "code",
   "execution_count": 46,
   "id": "2611eed0",
   "metadata": {
    "scrolled": true
   },
   "outputs": [
    {
     "ename": "SyntaxError",
     "evalue": "expression cannot contain assignment, perhaps you meant \"==\"? (426697533.py, line 1)",
     "output_type": "error",
     "traceback": [
      "\u001b[0;36m  File \u001b[0;32m\"/tmp/ipykernel_7078/426697533.py\"\u001b[0;36m, line \u001b[0;32m1\u001b[0m\n\u001b[0;31m    ohlcv['open_time'] = ohlcv.apply(lambda row : row['open_time'] = int(row['open_time'] // int1000), axis = 1)\u001b[0m\n\u001b[0m                                     ^\u001b[0m\n\u001b[0;31mSyntaxError\u001b[0m\u001b[0;31m:\u001b[0m expression cannot contain assignment, perhaps you meant \"==\"?\n"
     ]
    }
   ],
   "source": [
    "ohlcv['open_time'] = ohlcv.apply(lambda row : row['open_time'] = int(row['open_time'] // int1000), axis = 1)"
   ]
  },
  {
   "cell_type": "code",
   "execution_count": 75,
   "id": "c3b935d9",
   "metadata": {},
   "outputs": [
    {
     "data": {
      "text/plain": [
       "numpy.int64"
      ]
     },
     "execution_count": 75,
     "metadata": {},
     "output_type": "execute_result"
    }
   ],
   "source": [
    "type(ohlcv['close_time'][0])"
   ]
  },
  {
   "cell_type": "code",
   "execution_count": 74,
   "id": "d5d02d79",
   "metadata": {
    "scrolled": true
   },
   "outputs": [
    {
     "data": {
      "text/html": [
       "<div>\n",
       "<style scoped>\n",
       "    .dataframe tbody tr th:only-of-type {\n",
       "        vertical-align: middle;\n",
       "    }\n",
       "\n",
       "    .dataframe tbody tr th {\n",
       "        vertical-align: top;\n",
       "    }\n",
       "\n",
       "    .dataframe thead th {\n",
       "        text-align: right;\n",
       "    }\n",
       "</style>\n",
       "<table border=\"1\" class=\"dataframe\">\n",
       "  <thead>\n",
       "    <tr style=\"text-align: right;\">\n",
       "      <th></th>\n",
       "      <th>close_time</th>\n",
       "      <th>open</th>\n",
       "      <th>high</th>\n",
       "      <th>low</th>\n",
       "      <th>close</th>\n",
       "      <th>volume</th>\n",
       "    </tr>\n",
       "  </thead>\n",
       "  <tbody>\n",
       "    <tr>\n",
       "      <th>0</th>\n",
       "      <td>1629372000</td>\n",
       "      <td>2.103128</td>\n",
       "      <td>2.105166</td>\n",
       "      <td>2.098335</td>\n",
       "      <td>2.100106</td>\n",
       "      <td>30792.860028</td>\n",
       "    </tr>\n",
       "    <tr>\n",
       "      <th>1</th>\n",
       "      <td>1629372300</td>\n",
       "      <td>2.100213</td>\n",
       "      <td>2.100213</td>\n",
       "      <td>2.100213</td>\n",
       "      <td>2.100213</td>\n",
       "      <td>250.000000</td>\n",
       "    </tr>\n",
       "  </tbody>\n",
       "</table>\n",
       "</div>"
      ],
      "text/plain": [
       "   close_time      open      high       low     close        volume\n",
       "0  1629372000  2.103128  2.105166  2.098335  2.100106  30792.860028\n",
       "1  1629372300  2.100213  2.100213  2.100213  2.100213    250.000000"
      ]
     },
     "execution_count": 74,
     "metadata": {},
     "output_type": "execute_result"
    }
   ],
   "source": [
    "ohlcv"
   ]
  },
  {
   "cell_type": "code",
   "execution_count": null,
   "id": "b1cddb6b",
   "metadata": {},
   "outputs": [],
   "source": []
  }
 ],
 "metadata": {
  "kernelspec": {
   "display_name": "Python 3 (ipykernel)",
   "language": "python",
   "name": "python3"
  },
  "language_info": {
   "codemirror_mode": {
    "name": "ipython",
    "version": 3
   },
   "file_extension": ".py",
   "mimetype": "text/x-python",
   "name": "python",
   "nbconvert_exporter": "python",
   "pygments_lexer": "ipython3",
   "version": "3.9.6"
  }
 },
 "nbformat": 4,
 "nbformat_minor": 5
}
