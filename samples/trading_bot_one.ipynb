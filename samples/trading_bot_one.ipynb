{
 "cells": [
  {
   "cell_type": "code",
   "execution_count": 1,
   "metadata": {},
   "outputs": [],
   "source": [
    "import pickle, pathlib, os\n",
    "import pandas as pd"
   ]
  },
  {
   "cell_type": "code",
   "execution_count": 2,
   "metadata": {},
   "outputs": [],
   "source": [
    "file_name = 'TRXBTC_1h_EMA25.bin'\n",
    "home_path = str(pathlib.Path.home())\n",
    "data_path = os.path.join(home_path, file_name)\n",
    "\n",
    "df = pickle.load(open(data_path, 'rb'))"
   ]
  },
  {
   "cell_type": "code",
   "execution_count": 5,
   "metadata": {},
   "outputs": [],
   "source": [
    "pd.set_option('precision', 10) # output 10 decimal places\n",
    "\n",
    "# copy value from df\n",
    "ema_n_0 = df.iloc[-1].at['ema-25'] # latest ema value\n",
    "ema_n_1 = df.iloc[-2].at['ema-25']  # last ema value\n",
    "\n",
    "# trade_factor > 0 = price is rising / bullish trend\n",
    "# trade_factor < 0 = price is falling / bearish trend\n",
    "trade_factor = (ema_n_0 / ema_n_1) -1"
   ]
  },
  {
   "cell_type": "code",
   "execution_count": 8,
   "metadata": {},
   "outputs": [
    {
     "name": "stdout",
     "output_type": "stream",
     "text": [
      "Profit so far: -0.23\n"
     ]
    }
   ],
   "source": [
    "# Validation Stage 2\n",
    "\n",
    "n_cnt = 0\n",
    "\n",
    "\n",
    "buy_price = 0.0\n",
    "sell_price = 0.0\n",
    "\n",
    "buy_factor = 0.004\n",
    "sell_factor = -0.002\n",
    "\n",
    "\n",
    "def validate(_buy_factor, _sell_factor):\n",
    "    \n",
    "    b_bought = False\n",
    "    \n",
    "    profit = 0.0\n",
    "    \n",
    "    for index, row in df[1:].iterrows(): # iterate over rows\n",
    "        # start at second row and stop at penultimate row\n",
    "\n",
    "        ema_n_1 = df.iloc[index][['ema-25']].values[0] # latest ema value\n",
    "        ema_n_2 = df.iloc[index-1][['ema-25']].values[0] # latest ema value\n",
    "        trade_factor = (ema_n_1 / ema_n_2) -1\n",
    "\n",
    "        if trade_factor > _buy_factor and not b_bought: # ema-25 rises\n",
    "            buy_price = df.iloc[index][['close']].values[0]\n",
    "            b_bought = True\n",
    "\n",
    "        elif trade_factor < _sell_factor and b_bought: # ema-25 is falling\n",
    "            sell_price = df.iloc[index][['close']].values[0]\n",
    "            b_bought = False\n",
    "\n",
    "            profit += (sell_price / buy_price) -1\n",
    "\n",
    "            \n",
    "    return profit\n",
    "\n",
    "\n",
    "\n",
    "            \n",
    "profit = validate(buy_factor, sell_factor)\n",
    "\n",
    "print(\"Profit so far: {:.2f}\".format(profit))"
   ]
  },
  {
   "cell_type": "code",
   "execution_count": 9,
   "metadata": {},
   "outputs": [],
   "source": [
    "trading_factors = []\n",
    "\n",
    "#iterate over buy factor from 0.001 to 0.009\n",
    "for buy_factor in range(1, 9, 1):  \n",
    "    buy_factor = buy_factor * 10**(-3)\n",
    "    \n",
    "    #iterate over buy factor from -0.001 to -0.009\n",
    "    for sell_factor in range(1, 9, 1):      \n",
    "        sell_factor = sell_factor * -10**(-3) \n",
    "        \n",
    "        profit = validate(buy_factor, sell_factor)\n",
    "        \n",
    "        trading_factors.append((buy_factor, sell_factor, profit))"
   ]
  },
  {
   "cell_type": "code",
   "execution_count": 10,
   "metadata": {
    "scrolled": true
   },
   "outputs": [],
   "source": [
    "def select_profit(record):\n",
    "    return record[2]\n",
    "\n",
    "trading_factors.sort(key=select_profit, reverse=True)"
   ]
  },
  {
   "cell_type": "code",
   "execution_count": 11,
   "metadata": {},
   "outputs": [
    {
     "data": {
      "text/plain": [
       "[(0.002, -0.002, 0.03436033979967046),\n",
       " (0.002, -0.003, 0.014158319597650126),\n",
       " (0.006, -0.007, 0.0),\n",
       " (0.006, -0.008, 0.0),\n",
       " (0.007, -0.007, 0.0),\n",
       " (0.007, -0.008, 0.0),\n",
       " (0.008, -0.007, 0.0),\n",
       " (0.008, -0.008, 0.0),\n",
       " (0.001, -0.006, -0.00834652156004101),\n",
       " (0.002, -0.001, -0.031875007204029915),\n",
       " (0.002, -0.004, -0.03634673090740048),\n",
       " (0.002, -0.005, -0.03634673090740048),\n",
       " (0.002, -0.006, -0.03634673090740048),\n",
       " (0.001, -0.002, -0.04735133105695555),\n",
       " (0.006, -0.001, -0.07200000000000017),\n",
       " (0.007, -0.001, -0.07200000000000017),\n",
       " (0.008, -0.001, -0.07200000000000017),\n",
       " (0.006, -0.002, -0.08799999999999997),\n",
       " (0.007, -0.002, -0.08799999999999997),\n",
       " (0.008, -0.002, -0.08799999999999997),\n",
       " (0.006, -0.003, -0.10399999999999998),\n",
       " (0.007, -0.003, -0.10399999999999998),\n",
       " (0.008, -0.003, -0.10399999999999998),\n",
       " (0.001, -0.007, -0.11715481171548114),\n",
       " (0.001, -0.008, -0.11715481171548114),\n",
       " (0.002, -0.007, -0.11715481171548114),\n",
       " (0.002, -0.008, -0.11715481171548114),\n",
       " (0.001, -0.003, -0.1216481482294206),\n",
       " (0.001, -0.004, -0.13781080727432682),\n",
       " (0.001, -0.005, -0.13781080727432682),\n",
       " (0.003, -0.007, -0.1422764227642277),\n",
       " (0.003, -0.008, -0.1422764227642277),\n",
       " (0.004, -0.007, -0.1422764227642277),\n",
       " (0.004, -0.008, -0.1422764227642277),\n",
       " (0.006, -0.004, -0.14400000000000013),\n",
       " (0.006, -0.005, -0.14400000000000013),\n",
       " (0.006, -0.006, -0.14400000000000013),\n",
       " (0.007, -0.004, -0.14400000000000013),\n",
       " (0.007, -0.005, -0.14400000000000013),\n",
       " (0.007, -0.006, -0.14400000000000013),\n",
       " (0.008, -0.004, -0.14400000000000013),\n",
       " (0.008, -0.005, -0.14400000000000013),\n",
       " (0.008, -0.006, -0.14400000000000013),\n",
       " (0.001, -0.001, -0.16570250554082178),\n",
       " (0.005, -0.007, -0.16600790513833985),\n",
       " (0.005, -0.008, -0.16600790513833985),\n",
       " (0.003, -0.002, -0.23027642276422766),\n",
       " (0.004, -0.002, -0.23027642276422766),\n",
       " (0.005, -0.001, -0.23800790513834003),\n",
       " (0.003, -0.003, -0.24627642276422768),\n",
       " (0.004, -0.003, -0.24627642276422768),\n",
       " (0.005, -0.002, -0.2540079051383398),\n",
       " (0.005, -0.003, -0.27000790513833983),\n",
       " (0.003, -0.004, -0.2862764227642278),\n",
       " (0.003, -0.005, -0.2862764227642278),\n",
       " (0.003, -0.006, -0.2862764227642278),\n",
       " (0.004, -0.004, -0.2862764227642278),\n",
       " (0.004, -0.005, -0.2862764227642278),\n",
       " (0.004, -0.006, -0.2862764227642278),\n",
       " (0.003, -0.001, -0.29898351489443764),\n",
       " (0.004, -0.001, -0.29898351489443764),\n",
       " (0.005, -0.004, -0.31000790513834),\n",
       " (0.005, -0.005, -0.31000790513834),\n",
       " (0.005, -0.006, -0.31000790513834)]"
      ]
     },
     "execution_count": 11,
     "metadata": {},
     "output_type": "execute_result"
    }
   ],
   "source": [
    "trading_factors"
   ]
  },
  {
   "cell_type": "code",
   "execution_count": null,
   "metadata": {},
   "outputs": [],
   "source": []
  }
 ],
 "metadata": {
  "hide_input": false,
  "kernelspec": {
   "display_name": "Python 3",
   "language": "python",
   "name": "python3"
  },
  "language_info": {
   "codemirror_mode": {
    "name": "ipython",
    "version": 3
   },
   "file_extension": ".py",
   "mimetype": "text/x-python",
   "name": "python",
   "nbconvert_exporter": "python",
   "pygments_lexer": "ipython3",
   "version": "3.7.3"
  }
 },
 "nbformat": 4,
 "nbformat_minor": 2
}
